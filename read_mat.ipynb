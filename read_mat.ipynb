{
 "cells": [
  {
   "cell_type": "code",
   "execution_count": 1,
   "metadata": {},
   "outputs": [],
   "source": [
    "import os\n",
    "import scipy.io\n",
    "import matplotlib.pyplot as plt"
   ]
  },
  {
   "cell_type": "code",
   "execution_count": 2,
   "metadata": {},
   "outputs": [
    {
     "data": {
      "text/plain": [
       "({'003': 'subject_003',\n",
       "  '008': 'subject_008',\n",
       "  '009': 'subject_009',\n",
       "  '010': 'subject_010',\n",
       "  '011': 'subject_011',\n",
       "  '012': 'subject_012',\n",
       "  '015': 'subject_015',\n",
       "  '017': 'subject_017',\n",
       "  '018': 'subject_018',\n",
       "  '019': 'subject_019',\n",
       "  '020': 'subject_020',\n",
       "  '021': 'subject_021',\n",
       "  '027': 'subject_027',\n",
       "  '028': 'subject_028',\n",
       "  '033': 'subject_033',\n",
       "  '040': 'subject_040',\n",
       "  '044': 'subject_044',\n",
       "  '048': 'subject_048',\n",
       "  '050': 'subject_050',\n",
       "  '051': 'subject_051',\n",
       "  '058': 'subject_058',\n",
       "  '059': 'subject_059',\n",
       "  '060': 'subject_060',\n",
       "  '061': 'subject_061',\n",
       "  '065': 'subject_065',\n",
       "  '119': 'subject_119',\n",
       "  '124': 'subject_124',\n",
       "  '126': 'subject_126',\n",
       "  '127': 'subject_127',\n",
       "  '131': 'subject_131',\n",
       "  '133': 'subject_133',\n",
       "  '134': 'subject_134',\n",
       "  '135': 'subject_135',\n",
       "  '137': 'subject_137',\n",
       "  '147': 'subject_147',\n",
       "  '148': 'subject_148',\n",
       "  '152': 'subject_152',\n",
       "  '153': 'subject_153',\n",
       "  '154': 'subject_154',\n",
       "  '155': 'subject_155',\n",
       "  '156': 'subject_156',\n",
       "  '158': 'subject_158',\n",
       "  '162': 'subject_162',\n",
       "  '163': 'subject_163',\n",
       "  '165': 'subject_165'},\n",
       " 45)"
      ]
     },
     "execution_count": 2,
     "metadata": {},
     "output_type": "execute_result"
    }
   ],
   "source": [
    "sub_dirs = list(filter(lambda x: \"subject\" in x, os.listdir(path=\"cipic-hrtf-database-master/standard_hrir_database/\")))\n",
    "sub = {i[len(i)-3:len(i)]: i for i in sub_dirs}\n",
    "sub, len(sub)"
   ]
  },
  {
   "cell_type": "code",
   "execution_count": 3,
   "metadata": {},
   "outputs": [],
   "source": [
    "def read_subject_mat(subject_num):\n",
    "    path = \"cipic-hrtf-database-master/standard_hrir_database/\"\n",
    "    subject = f\"subject_{subject_num}/\"\n",
    "    f = scipy.io.loadmat(path + subject + \"hrir_final.mat\")\n",
    "    \"\"\" for i in f:\n",
    "        print(i, f[i]) \"\"\"\n",
    "    return f"
   ]
  },
  {
   "cell_type": "code",
   "execution_count": 4,
   "metadata": {},
   "outputs": [],
   "source": [
    "def read_custom_mat(path):\n",
    "    f = scipy.io.loadmat(path)\n",
    "    \"\"\" for i in f:\n",
    "        print(i, f[i]) \"\"\"\n",
    "    return f"
   ]
  },
  {
   "cell_type": "code",
   "execution_count": 5,
   "metadata": {},
   "outputs": [],
   "source": [
    "class Subject:\n",
    "    def __init__(self, id, onR, onL, itd, hrir_r, hrir_l):\n",
    "        self.id = id\n",
    "        self.onR = onR\n",
    "        self.onL = onL\n",
    "        self.itd = itd\n",
    "        self.hrir_r = hrir_r\n",
    "        self.hrir_l = hrir_l"
   ]
  },
  {
   "cell_type": "code",
   "execution_count": 6,
   "metadata": {},
   "outputs": [],
   "source": [
    "def assign_subject(subject_num):\n",
    "    subject = read_subject_mat(subject_num)\n",
    "    return Subject(subject_num, subject['OnR'], subject['OnL'], subject['ITD'], subject[\"hrir_r\"], subject['hrir_l'])"
   ]
  },
  {
   "cell_type": "code",
   "execution_count": 7,
   "metadata": {},
   "outputs": [
    {
     "data": {
      "text/plain": [
       "'\\nSet of 27 anthropometric readings\\n17 - head & 10 - torso\\n'"
      ]
     },
     "execution_count": 7,
     "metadata": {},
     "output_type": "execute_result"
    }
   ],
   "source": [
    "anthro_mat = read_custom_mat(\"cipic-hrtf-database-master/anthropometry/anthro.mat\")\n",
    "'''\n",
    "Set of 27 anthropometric readings\n",
    "17 - head & 10 - torso\n",
    "'''"
   ]
  },
  {
   "cell_type": "code",
   "execution_count": 8,
   "metadata": {},
   "outputs": [
    {
     "name": "stdout",
     "output_type": "stream",
     "text": [
      "[-3.11875994e-08  5.98625868e-07 -3.89598115e-06  5.84628777e-07\n",
      " -3.84821094e-05 -1.45932398e-04 -7.94875472e-05 -4.40298121e-04\n",
      " -8.17199305e-04 -5.26990740e-04 -1.66426938e-03 -2.00059359e-03\n",
      " -1.77334573e-03 -1.96503132e-03 -1.92667238e-03 -2.46048213e-03\n",
      " -2.63203776e-03 -2.31107649e-03 -2.03720585e-03 -2.41328781e-03\n",
      " -1.93626005e-03 -2.51413717e-03 -1.65110780e-03 -1.31566572e-03\n",
      " -3.39586001e-03 -3.45370787e-03 -2.07106397e-03 -2.60944448e-03\n",
      " -3.14782024e-03 -2.18415546e-03 -1.54634048e-03 -2.03580729e-03\n",
      " -3.09895753e-03 -1.92612088e-03 -1.75981642e-03 -4.51178893e-03\n",
      " -6.48466007e-04 -3.26738089e-03 -3.38295088e-03 -2.67173882e-04\n",
      " -3.34297922e-03 -2.19973196e-03 -5.27779061e-04 -4.54647141e-03\n",
      " -5.05488039e-03 -1.84220198e-03 -4.12792530e-03 -2.43910739e-03\n",
      " -1.77752728e-03 -3.20836026e-03 -1.83460985e-03  1.27693523e-02\n",
      "  7.52272564e-02  1.32032669e-01  9.97185761e-02  8.08290410e-02\n",
      "  8.81161385e-02  1.54263563e-02 -4.13859717e-02 -5.46936406e-02\n",
      " -8.77618021e-02 -8.19669457e-02 -3.26897015e-02  1.02569238e-03\n",
      "  3.28655432e-02  1.95149941e-02 -4.00707743e-02 -4.52348342e-02\n",
      " -2.64854202e-02 -3.63335508e-02 -5.11560913e-02 -5.26483530e-02\n",
      " -4.47335651e-02 -3.00267643e-02 -2.27406940e-02 -2.43252180e-02\n",
      " -1.80053527e-02 -1.72270209e-02 -2.47494646e-02 -3.04249091e-02\n",
      " -3.36685112e-02 -3.36087919e-02 -2.77270975e-02 -2.66357057e-02\n",
      " -2.32829382e-02 -1.32345315e-02 -1.19887468e-02 -1.09318485e-02\n",
      " -7.77153493e-03 -9.90731106e-03 -1.04100459e-02 -8.22305680e-03\n",
      " -8.27268827e-03 -6.24182127e-03 -3.74301477e-03 -6.20475937e-03\n",
      " -4.13389258e-03 -5.17172382e-05 -3.47984301e-05  8.80309684e-04\n",
      "  2.77185812e-03 -8.31316837e-04 -2.36987505e-03 -2.86719930e-03\n",
      " -5.48728189e-03 -6.31785345e-03 -5.42630699e-03 -5.06010659e-03\n",
      " -3.67865817e-03 -1.66672631e-03 -1.46295181e-03  7.39801060e-05\n",
      "  3.13338899e-04 -1.55857982e-05  1.07127385e-03  2.90654699e-03\n",
      "  6.01668113e-03  5.16270483e-03  6.84758263e-03  8.41764978e-03\n",
      "  7.18306917e-03  5.83483389e-03  3.54501196e-03 -3.63904158e-04\n",
      " -1.98297052e-03 -7.52597537e-04 -3.89393690e-03 -4.26325285e-03\n",
      "  6.16711132e-04 -9.99884919e-05  2.36113873e-03  9.38783701e-03\n",
      "  6.92842922e-03  2.68892130e-03  6.35168557e-03 -2.95926887e-04\n",
      " -5.89773664e-03 -3.97554504e-03 -9.41691633e-03 -1.37370000e-02\n",
      " -1.03475119e-02 -8.53315365e-03 -7.04794557e-03 -1.20888634e-03\n",
      " -1.82263851e-03 -1.27831043e-03  2.09106672e-03  1.70716348e-03\n",
      " -7.15164408e-04  1.11081872e-03  2.79651560e-04 -1.35321158e-05\n",
      "  9.73179163e-04  3.64728796e-04  2.99559235e-03  3.64256272e-03\n",
      "  1.80905868e-03  3.48864403e-03  3.53612817e-03  5.35138913e-04\n",
      "  7.69113961e-04 -1.03008816e-04 -3.28050050e-03 -3.70982878e-03\n",
      " -1.99029936e-03 -1.27330377e-03  1.40679221e-03  3.71492766e-03\n",
      "  3.36932686e-03  2.45847829e-03  3.24686092e-03  2.68368327e-03\n",
      "  6.84136500e-04  4.02813536e-04  6.96524073e-04  1.01620176e-03\n",
      "  1.98335835e-03  2.00350022e-03  1.49347182e-03  1.05248994e-03\n",
      "  1.09721056e-03  1.17649133e-03  1.31729424e-03  1.35693640e-03\n",
      "  8.23215901e-04  3.68266821e-04  3.44659123e-04  3.85634886e-04\n",
      "  3.08976844e-04  2.84301034e-04  3.62320521e-04  3.67008397e-04\n",
      "  2.96669750e-04  2.08251256e-04  1.41260587e-04  1.04008187e-04\n",
      "  8.36150183e-05  5.40740814e-05  2.62411273e-05  1.30509456e-05]\n"
     ]
    }
   ],
   "source": [
    "'''\n",
    "Elevations were uniformly sampled in 5.625 deg, from -45 deg to 230.625 deg\n",
    "'''\n",
    "\n",
    "'''\n",
    "Arrays ITD, hrir_r, hrir_l, OnR & OnL has 25 lists (25 different azimuths) (left to right).\n",
    "Each list has 50 readings (50 different elevations) (top to bottom) at approx 5 deg angular increment\n",
    "'''\n",
    "\n",
    "'''\n",
    "len(sub.hrir) = 25\n",
    "len(sub.hrir[0]) = 50\n",
    "len(sub.hrir[0][0]) = 200\n",
    "\n",
    "total readings per HRIR = 25 * 50 * 200 = 2,50,000\n",
    "'''\n",
    "\n",
    "subject_003 = assign_subject(subject_num=\"003\")\n",
    "print(subject_003.hrir_r[0][0])\n"
   ]
  },
  {
   "cell_type": "code",
   "execution_count": 12,
   "metadata": {},
   "outputs": [
    {
     "data": {
      "image/png": "[encoded data removed]",
      "text/plain": [
       "<Figure size 640x480 with 2 Axes>"
      ]
     },
     "metadata": {},
     "output_type": "display_data"
    }
   ],
   "source": [
    "# Assuming OnL is a 2D array\n",
    "plt.imshow(subject_003.onL, cmap='viridis', aspect='auto')\n",
    "plt.colorbar()\n",
    "plt.title('Sub 003 OnL: Heatmap Plot')\n",
    "plt.xlabel('X-axis')\n",
    "plt.ylabel('Y-axis')\n",
    "plt.show()\n"
   ]
  }
 ],
 "metadata": {
  "kernelspec": {
   "display_name": "Python 3",
   "language": "python",
   "name": "python3"
  },
  "language_info": {
   "codemirror_mode": {
    "name": "ipython",
    "version": 3
   },
   "file_extension": ".py",
   "mimetype": "text/x-python",
   "name": "python",
   "nbconvert_exporter": "python",
   "pygments_lexer": "ipython3",
   "version": "3.10.1"
  }
 },
 "nbformat": 4,
 "nbformat_minor": 2
}
